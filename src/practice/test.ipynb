{
 "cells": [
  {
   "cell_type": "code",
   "execution_count": 3,
   "outputs": [
    {
     "name": "stdout",
     "output_type": "stream",
     "text": [
      "tensor(3.)\n"
     ]
    }
   ],
   "source": [
    "import torch\n",
    "import torch.nn as nn\n",
    "\n",
    "m = torch.Tensor.mean(torch.tensor([[1, 2, 3], [3, 4, 5]]).float())\n",
    "print(m)"
   ],
   "metadata": {
    "collapsed": false,
    "pycharm": {
     "name": "#%%\n"
    }
   }
  },
  {
   "cell_type": "code",
   "execution_count": 14,
   "outputs": [
    {
     "name": "stdout",
     "output_type": "stream",
     "text": [
      "tensor([[[-1.1258, -1.1524, -0.2506, -0.4339],\n",
      "         [ 0.8487,  0.6920, -0.3160, -2.1152],\n",
      "         [ 0.3223, -1.2633,  0.3500,  0.3081]],\n",
      "\n",
      "        [[ 0.4397,  0.1124,  0.6408,  0.4412],\n",
      "         [-0.1023,  0.7924, -0.2897,  0.0525],\n",
      "         [ 0.5229,  2.3022, -1.4689, -1.5867]]])\n",
      "tensor([-1.1258, -1.1524, -0.2506, -0.4339,  0.8487,  0.6920, -0.3160, -2.1152,\n",
      "         0.3223, -1.2633,  0.3500,  0.3081,  0.4397,  0.1124,  0.6408,  0.4412,\n",
      "        -0.1023,  0.7924, -0.2897,  0.0525,  0.5229,  2.3022, -1.4689, -1.5867])\n",
      "tensor(-0.0950) tensor(-0.0950)\n",
      "tensor(0.9611) tensor(0.9611)\n",
      "tensor(-0.0950) tensor(-0.0950)\n",
      "tensor(0.9211) tensor(0.9211)\n",
      "tensor(0.9611) tensor(0.9611)\n"
     ]
    }
   ],
   "source": [
    "# t = torch.tensor([[[1,2,3.0],[2,3,5]],[[1,2,3.0],[1,4,5]]])\n",
    "t = torch.tensor([[[-1.1258, -1.1524, -0.2506, -0.4339],\n",
    "                   [0.8487, 0.6920, -0.3160, -2.1152],\n",
    "                   [0.3223, -1.2633, 0.3500, 0.3081]],\n",
    "                  [[0.4397, 0.1124, 0.6408, 0.4412],\n",
    "                   [-0.1023, 0.7924, -0.2897, 0.0525],\n",
    "                   [0.5229, 2.3022, -1.4689, -1.5867]]])\n",
    "q = t.view(-1)\n",
    "print(t)\n",
    "print(q)\n",
    "print(torch.mean(t), torch.mean(q))\n",
    "print(torch.var(t), torch.var(q))\n",
    "print(torch.Tensor.mean(t),torch.Tensor.mean(q))\n",
    "print(torch.Tensor.var(t, False),torch.Tensor.var(q, False))\n",
    "print(torch.Tensor.var(t, True),torch.Tensor.var(q, True))"
   ],
   "metadata": {
    "collapsed": false,
    "pycharm": {
     "name": "#%%\n"
    }
   }
  },
  {
   "cell_type": "code",
   "execution_count": null,
   "outputs": [],
   "source": [],
   "metadata": {
    "collapsed": false,
    "pycharm": {
     "name": "#%%\n"
    }
   }
  }
 ],
 "metadata": {
  "kernelspec": {
   "display_name": "Python 3",
   "language": "python",
   "name": "python3"
  },
  "language_info": {
   "codemirror_mode": {
    "name": "ipython",
    "version": 2
   },
   "file_extension": ".py",
   "mimetype": "text/x-python",
   "name": "python",
   "nbconvert_exporter": "python",
   "pygments_lexer": "ipython2",
   "version": "2.7.6"
  }
 },
 "nbformat": 4,
 "nbformat_minor": 0
}